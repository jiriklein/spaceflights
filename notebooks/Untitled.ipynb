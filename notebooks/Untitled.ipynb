{
 "cells": [
  {
   "cell_type": "code",
   "execution_count": 1,
   "metadata": {},
   "outputs": [
    {
     "data": {
      "text/plain": [
       "<kedro.io.data_catalog.DataCatalog at 0x7fe5084bbb38>"
      ]
     },
     "execution_count": 1,
     "metadata": {},
     "output_type": "execute_result"
    }
   ],
   "source": [
    "catalog"
   ]
  },
  {
   "cell_type": "code",
   "execution_count": 2,
   "metadata": {},
   "outputs": [
    {
     "data": {
      "text/plain": [
       "<spaceflights.run.ProjectContext at 0x7fe4b09d7c18>"
      ]
     },
     "execution_count": 2,
     "metadata": {},
     "output_type": "execute_result"
    }
   ],
   "source": [
    "context"
   ]
  },
  {
   "cell_type": "code",
   "execution_count": 3,
   "metadata": {
    "collapsed": true
   },
   "outputs": [
    {
     "data": {
      "text/plain": [
       "['CONF_ROOT',\n",
       " '__abstractmethods__',\n",
       " '__annotations__',\n",
       " '__class__',\n",
       " '__delattr__',\n",
       " '__dict__',\n",
       " '__dir__',\n",
       " '__doc__',\n",
       " '__eq__',\n",
       " '__format__',\n",
       " '__ge__',\n",
       " '__getattribute__',\n",
       " '__gt__',\n",
       " '__hash__',\n",
       " '__init__',\n",
       " '__init_subclass__',\n",
       " '__le__',\n",
       " '__lt__',\n",
       " '__module__',\n",
       " '__ne__',\n",
       " '__new__',\n",
       " '__reduce__',\n",
       " '__reduce_ex__',\n",
       " '__repr__',\n",
       " '__setattr__',\n",
       " '__sizeof__',\n",
       " '__str__',\n",
       " '__subclasshook__',\n",
       " '__weakref__',\n",
       " '_abc_cache',\n",
       " '_abc_negative_cache',\n",
       " '_abc_negative_cache_version',\n",
       " '_abc_registry',\n",
       " '_create_catalog',\n",
       " '_create_config_loader',\n",
       " '_extra_params',\n",
       " '_filter_pipeline',\n",
       " '_get_catalog',\n",
       " '_get_config_credentials',\n",
       " '_get_config_loader',\n",
       " '_get_feed_dict',\n",
       " '_get_pipeline',\n",
       " '_get_pipelines',\n",
       " '_get_run_id',\n",
       " '_get_save_version',\n",
       " '_project_path',\n",
       " '_register_hooks',\n",
       " '_register_hooks_setuptools',\n",
       " '_setup_logging',\n",
       " '_static_data',\n",
       " 'catalog',\n",
       " 'config_loader',\n",
       " 'env',\n",
       " 'hooks',\n",
       " 'io',\n",
       " 'package_name',\n",
       " 'params',\n",
       " 'pipeline',\n",
       " 'pipelines',\n",
       " 'project_name',\n",
       " 'project_path',\n",
       " 'project_version',\n",
       " 'run',\n",
       " 'run_id',\n",
       " 'static_data']"
      ]
     },
     "execution_count": 3,
     "metadata": {},
     "output_type": "execute_result"
    }
   ],
   "source": [
    "dir(context)"
   ]
  },
  {
   "cell_type": "code",
   "execution_count": null,
   "metadata": {},
   "outputs": [],
   "source": [
    "from typing import Any\n",
    "from pandas import pd\n",
    "\n",
    "\n",
    "def experimental_node(input_df: pd.DataFrame) -> pd.DataFrame:\n",
    "    \"\"\"\n",
    "    \n",
    "    \"\"\"\n",
    "    ... "
   ]
  }
 ],
 "metadata": {
  "kernelspec": {
   "display_name": "spaceflights",
   "language": "python",
   "name": "python3"
  },
  "language_info": {
   "codemirror_mode": {
    "name": "ipython",
    "version": 3
   },
   "file_extension": ".py",
   "mimetype": "text/x-python",
   "name": "python",
   "nbconvert_exporter": "python",
   "pygments_lexer": "ipython3",
   "version": "3.6.12"
  }
 },
 "nbformat": 4,
 "nbformat_minor": 4
}
